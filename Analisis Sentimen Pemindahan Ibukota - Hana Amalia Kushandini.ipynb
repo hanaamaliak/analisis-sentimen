{
  "nbformat": 4,
  "nbformat_minor": 0,
  "metadata": {
    "colab": {
      "name": "Analisis Sentimen Pemindahan Ibukota - Hana Amalia Kushandini",
      "provenance": [],
      "collapsed_sections": []
    },
    "kernelspec": {
      "name": "python3",
      "display_name": "Python 3"
    },
    "language_info": {
      "name": "python"
    },
    "accelerator": "GPU",
    "gpuClass": "standard"
  },
  "cells": [
    {
      "cell_type": "markdown",
      "source": [
        "## Analisis Sentimen Pemindahan Ibukota\n",
        "### Oleh: Hana Amalia Kushandini\n",
        "\n",
        "**Sumber Dataset:** https://github.com/varaah/analisis-sentimen-ikn \\\n",
        "**Deskripsi:** Dataset yang digunakan merupakan hasil tweet yang berisi pendapat para pengguna twitter mengenai pemindahan Ibukota dari Jakarta ke Kalimantan. Pendapat yang dikumpulkan dari twitter tersebut dibagi menjadi kategori *positive* (1) dan *negative* (0), yang selanjutnya digunakan sebagai label dalam data."
      ],
      "metadata": {
        "id": "0dcyh_LJN2cX"
      }
    },
    {
      "cell_type": "code",
      "source": [
        "!pip -q install PySastrawi"
      ],
      "metadata": {
        "id": "Q-dK7TWJF2xe"
      },
      "execution_count": 1,
      "outputs": []
    },
    {
      "cell_type": "code",
      "execution_count": 2,
      "metadata": {
        "id": "QLfhS8uN6NWc"
      },
      "outputs": [],
      "source": [
        "import re\n",
        "import string\n",
        "\n",
        "import numpy as np\n",
        "import pandas as pd\n",
        "import matplotlib.pyplot as plt\n",
        "import seaborn as sns\n",
        "from sklearn.model_selection import train_test_split\n",
        "from Sastrawi.Stemmer.StemmerFactory import StemmerFactory\n",
        "import tensorflow as tf\n",
        "import tensorflow_hub as hub\n",
        "import keras\n",
        "from keras.models import load_model"
      ]
    },
    {
      "cell_type": "code",
      "source": [
        "url1 = \"https://raw.githubusercontent.com/varaah/analisis-sentimen-ikn/main/data/twitterIKN-labelled_new.csv\"\n",
        "df = pd.read_csv(url1)"
      ],
      "metadata": {
        "id": "e4NLvrR_BldX"
      },
      "execution_count": 3,
      "outputs": []
    },
    {
      "cell_type": "code",
      "source": [
        "df"
      ],
      "metadata": {
        "colab": {
          "base_uri": "https://localhost:8080/",
          "height": 676
        },
        "id": "GYTrWwPPBvkG",
        "outputId": "119a8edc-08eb-4c81-c3dc-c780a572033d"
      },
      "execution_count": 4,
      "outputs": [
        {
          "output_type": "execute_result",
          "data": {
            "text/plain": [
              "         author id        date                created_at  geo            id  \\\n",
              "0     1.484686e+18  2022-01-27  2022-01-27T07:27:53.000Z  NaN  1.486602e+18   \n",
              "1     1.464432e+18  2022-01-27  2022-01-27T07:27:54.000Z  NaN  1.486602e+18   \n",
              "2     8.852835e+17  2022-01-27  2022-01-27T07:28:03.000Z  NaN  1.486602e+18   \n",
              "3     1.384007e+18  2022-01-27  2022-01-27T07:28:04.000Z  NaN  1.486602e+18   \n",
              "4     1.450712e+18  2022-01-27  2022-01-27T07:28:05.000Z  NaN  1.486602e+18   \n",
              "...            ...         ...                       ...  ...           ...   \n",
              "1722  1.349267e+18  2022-02-27  2022-02-27T23:44:22.000Z  NaN  1.498082e+18   \n",
              "1723  3.225593e+08  2022-02-27  2022-02-27T23:46:29.000Z  NaN  1.498082e+18   \n",
              "1724  3.225593e+08  2022-02-27  2022-02-27T23:53:35.000Z  NaN  1.498084e+18   \n",
              "1725  2.438712e+09  2022-02-27  2022-02-27T23:55:13.000Z  NaN  1.498084e+18   \n",
              "1726  1.401320e+18  2022-02-27  2022-02-27T23:58:59.000Z  NaN  1.498085e+18   \n",
              "\n",
              "     lang  like_count  quote_count  reply_count  retweet_count  \\\n",
              "0      in           0            0            0              0   \n",
              "1      in           0            0            0              0   \n",
              "2      in           0            0            0              0   \n",
              "3      in           1            0            0              0   \n",
              "4      in           0            0            0              0   \n",
              "...   ...         ...          ...          ...            ...   \n",
              "1722   in          16            6            2             16   \n",
              "1723   in          20            1            2             20   \n",
              "1724   in          19            1            1             19   \n",
              "1725   in          24            0            2             23   \n",
              "1726   in           1            0            0              0   \n",
              "\n",
              "                   source                                              tweet  \\\n",
              "0         Twitter Web App  #AyoTolakUUIKN \\n\\nProyek IKN membuka peluang ...   \n",
              "1     Twitter for Android  Tolak UU IKN karena berpotensi merusak lingkun...   \n",
              "2         Twitter Web App  UU IKN hanya akan merugikan rakyat dengan huta...   \n",
              "3         Twitter Web App  Jika UU ini diterapkan yang terjadi adalah mas...   \n",
              "4     Twitter for Android  UU IKN Syarat kepentingan oligarki. Tolak n ba...   \n",
              "...                   ...                                                ...   \n",
              "1722  Twitter for Android  ♻Visi Pembangunan IKN♻\\n\\nIKN akan dibangun de...   \n",
              "1723  Twitter for Android  ✍️ Menteri @Suharso_M: Berada di Tengah Indone...   \n",
              "1724  Twitter for Android  ✍️ Visi Pembangunan IKN\\n\\nIKN akan dibangun d...   \n",
              "1725      Twitter Web App  Berada di tengah Indonesia, IKN diharapkan men...   \n",
              "1726  Twitter for Android  Pembangunan IKN usung konsep future smart fore...   \n",
              "\n",
              "      target  \n",
              "0          0  \n",
              "1          0  \n",
              "2          0  \n",
              "3          0  \n",
              "4          0  \n",
              "...      ...  \n",
              "1722       1  \n",
              "1723       1  \n",
              "1724       1  \n",
              "1725       1  \n",
              "1726       1  \n",
              "\n",
              "[1727 rows x 13 columns]"
            ],
            "text/html": [
              "\n",
              "  <div id=\"df-71ff3294-15c2-4d75-a636-2fe3cdf895ac\">\n",
              "    <div class=\"colab-df-container\">\n",
              "      <div>\n",
              "<style scoped>\n",
              "    .dataframe tbody tr th:only-of-type {\n",
              "        vertical-align: middle;\n",
              "    }\n",
              "\n",
              "    .dataframe tbody tr th {\n",
              "        vertical-align: top;\n",
              "    }\n",
              "\n",
              "    .dataframe thead th {\n",
              "        text-align: right;\n",
              "    }\n",
              "</style>\n",
              "<table border=\"1\" class=\"dataframe\">\n",
              "  <thead>\n",
              "    <tr style=\"text-align: right;\">\n",
              "      <th></th>\n",
              "      <th>author id</th>\n",
              "      <th>date</th>\n",
              "      <th>created_at</th>\n",
              "      <th>geo</th>\n",
              "      <th>id</th>\n",
              "      <th>lang</th>\n",
              "      <th>like_count</th>\n",
              "      <th>quote_count</th>\n",
              "      <th>reply_count</th>\n",
              "      <th>retweet_count</th>\n",
              "      <th>source</th>\n",
              "      <th>tweet</th>\n",
              "      <th>target</th>\n",
              "    </tr>\n",
              "  </thead>\n",
              "  <tbody>\n",
              "    <tr>\n",
              "      <th>0</th>\n",
              "      <td>1.484686e+18</td>\n",
              "      <td>2022-01-27</td>\n",
              "      <td>2022-01-27T07:27:53.000Z</td>\n",
              "      <td>NaN</td>\n",
              "      <td>1.486602e+18</td>\n",
              "      <td>in</td>\n",
              "      <td>0</td>\n",
              "      <td>0</td>\n",
              "      <td>0</td>\n",
              "      <td>0</td>\n",
              "      <td>Twitter Web App</td>\n",
              "      <td>#AyoTolakUUIKN \\n\\nProyek IKN membuka peluang ...</td>\n",
              "      <td>0</td>\n",
              "    </tr>\n",
              "    <tr>\n",
              "      <th>1</th>\n",
              "      <td>1.464432e+18</td>\n",
              "      <td>2022-01-27</td>\n",
              "      <td>2022-01-27T07:27:54.000Z</td>\n",
              "      <td>NaN</td>\n",
              "      <td>1.486602e+18</td>\n",
              "      <td>in</td>\n",
              "      <td>0</td>\n",
              "      <td>0</td>\n",
              "      <td>0</td>\n",
              "      <td>0</td>\n",
              "      <td>Twitter for Android</td>\n",
              "      <td>Tolak UU IKN karena berpotensi merusak lingkun...</td>\n",
              "      <td>0</td>\n",
              "    </tr>\n",
              "    <tr>\n",
              "      <th>2</th>\n",
              "      <td>8.852835e+17</td>\n",
              "      <td>2022-01-27</td>\n",
              "      <td>2022-01-27T07:28:03.000Z</td>\n",
              "      <td>NaN</td>\n",
              "      <td>1.486602e+18</td>\n",
              "      <td>in</td>\n",
              "      <td>0</td>\n",
              "      <td>0</td>\n",
              "      <td>0</td>\n",
              "      <td>0</td>\n",
              "      <td>Twitter Web App</td>\n",
              "      <td>UU IKN hanya akan merugikan rakyat dengan huta...</td>\n",
              "      <td>0</td>\n",
              "    </tr>\n",
              "    <tr>\n",
              "      <th>3</th>\n",
              "      <td>1.384007e+18</td>\n",
              "      <td>2022-01-27</td>\n",
              "      <td>2022-01-27T07:28:04.000Z</td>\n",
              "      <td>NaN</td>\n",
              "      <td>1.486602e+18</td>\n",
              "      <td>in</td>\n",
              "      <td>1</td>\n",
              "      <td>0</td>\n",
              "      <td>0</td>\n",
              "      <td>0</td>\n",
              "      <td>Twitter Web App</td>\n",
              "      <td>Jika UU ini diterapkan yang terjadi adalah mas...</td>\n",
              "      <td>0</td>\n",
              "    </tr>\n",
              "    <tr>\n",
              "      <th>4</th>\n",
              "      <td>1.450712e+18</td>\n",
              "      <td>2022-01-27</td>\n",
              "      <td>2022-01-27T07:28:05.000Z</td>\n",
              "      <td>NaN</td>\n",
              "      <td>1.486602e+18</td>\n",
              "      <td>in</td>\n",
              "      <td>0</td>\n",
              "      <td>0</td>\n",
              "      <td>0</td>\n",
              "      <td>0</td>\n",
              "      <td>Twitter for Android</td>\n",
              "      <td>UU IKN Syarat kepentingan oligarki. Tolak n ba...</td>\n",
              "      <td>0</td>\n",
              "    </tr>\n",
              "    <tr>\n",
              "      <th>...</th>\n",
              "      <td>...</td>\n",
              "      <td>...</td>\n",
              "      <td>...</td>\n",
              "      <td>...</td>\n",
              "      <td>...</td>\n",
              "      <td>...</td>\n",
              "      <td>...</td>\n",
              "      <td>...</td>\n",
              "      <td>...</td>\n",
              "      <td>...</td>\n",
              "      <td>...</td>\n",
              "      <td>...</td>\n",
              "      <td>...</td>\n",
              "    </tr>\n",
              "    <tr>\n",
              "      <th>1722</th>\n",
              "      <td>1.349267e+18</td>\n",
              "      <td>2022-02-27</td>\n",
              "      <td>2022-02-27T23:44:22.000Z</td>\n",
              "      <td>NaN</td>\n",
              "      <td>1.498082e+18</td>\n",
              "      <td>in</td>\n",
              "      <td>16</td>\n",
              "      <td>6</td>\n",
              "      <td>2</td>\n",
              "      <td>16</td>\n",
              "      <td>Twitter for Android</td>\n",
              "      <td>♻Visi Pembangunan IKN♻\\n\\nIKN akan dibangun de...</td>\n",
              "      <td>1</td>\n",
              "    </tr>\n",
              "    <tr>\n",
              "      <th>1723</th>\n",
              "      <td>3.225593e+08</td>\n",
              "      <td>2022-02-27</td>\n",
              "      <td>2022-02-27T23:46:29.000Z</td>\n",
              "      <td>NaN</td>\n",
              "      <td>1.498082e+18</td>\n",
              "      <td>in</td>\n",
              "      <td>20</td>\n",
              "      <td>1</td>\n",
              "      <td>2</td>\n",
              "      <td>20</td>\n",
              "      <td>Twitter for Android</td>\n",
              "      <td>✍️ Menteri @Suharso_M: Berada di Tengah Indone...</td>\n",
              "      <td>1</td>\n",
              "    </tr>\n",
              "    <tr>\n",
              "      <th>1724</th>\n",
              "      <td>3.225593e+08</td>\n",
              "      <td>2022-02-27</td>\n",
              "      <td>2022-02-27T23:53:35.000Z</td>\n",
              "      <td>NaN</td>\n",
              "      <td>1.498084e+18</td>\n",
              "      <td>in</td>\n",
              "      <td>19</td>\n",
              "      <td>1</td>\n",
              "      <td>1</td>\n",
              "      <td>19</td>\n",
              "      <td>Twitter for Android</td>\n",
              "      <td>✍️ Visi Pembangunan IKN\\n\\nIKN akan dibangun d...</td>\n",
              "      <td>1</td>\n",
              "    </tr>\n",
              "    <tr>\n",
              "      <th>1725</th>\n",
              "      <td>2.438712e+09</td>\n",
              "      <td>2022-02-27</td>\n",
              "      <td>2022-02-27T23:55:13.000Z</td>\n",
              "      <td>NaN</td>\n",
              "      <td>1.498084e+18</td>\n",
              "      <td>in</td>\n",
              "      <td>24</td>\n",
              "      <td>0</td>\n",
              "      <td>2</td>\n",
              "      <td>23</td>\n",
              "      <td>Twitter Web App</td>\n",
              "      <td>Berada di tengah Indonesia, IKN diharapkan men...</td>\n",
              "      <td>1</td>\n",
              "    </tr>\n",
              "    <tr>\n",
              "      <th>1726</th>\n",
              "      <td>1.401320e+18</td>\n",
              "      <td>2022-02-27</td>\n",
              "      <td>2022-02-27T23:58:59.000Z</td>\n",
              "      <td>NaN</td>\n",
              "      <td>1.498085e+18</td>\n",
              "      <td>in</td>\n",
              "      <td>1</td>\n",
              "      <td>0</td>\n",
              "      <td>0</td>\n",
              "      <td>0</td>\n",
              "      <td>Twitter for Android</td>\n",
              "      <td>Pembangunan IKN usung konsep future smart fore...</td>\n",
              "      <td>1</td>\n",
              "    </tr>\n",
              "  </tbody>\n",
              "</table>\n",
              "<p>1727 rows × 13 columns</p>\n",
              "</div>\n",
              "      <button class=\"colab-df-convert\" onclick=\"convertToInteractive('df-71ff3294-15c2-4d75-a636-2fe3cdf895ac')\"\n",
              "              title=\"Convert this dataframe to an interactive table.\"\n",
              "              style=\"display:none;\">\n",
              "        \n",
              "  <svg xmlns=\"http://www.w3.org/2000/svg\" height=\"24px\"viewBox=\"0 0 24 24\"\n",
              "       width=\"24px\">\n",
              "    <path d=\"M0 0h24v24H0V0z\" fill=\"none\"/>\n",
              "    <path d=\"M18.56 5.44l.94 2.06.94-2.06 2.06-.94-2.06-.94-.94-2.06-.94 2.06-2.06.94zm-11 1L8.5 8.5l.94-2.06 2.06-.94-2.06-.94L8.5 2.5l-.94 2.06-2.06.94zm10 10l.94 2.06.94-2.06 2.06-.94-2.06-.94-.94-2.06-.94 2.06-2.06.94z\"/><path d=\"M17.41 7.96l-1.37-1.37c-.4-.4-.92-.59-1.43-.59-.52 0-1.04.2-1.43.59L10.3 9.45l-7.72 7.72c-.78.78-.78 2.05 0 2.83L4 21.41c.39.39.9.59 1.41.59.51 0 1.02-.2 1.41-.59l7.78-7.78 2.81-2.81c.8-.78.8-2.07 0-2.86zM5.41 20L4 18.59l7.72-7.72 1.47 1.35L5.41 20z\"/>\n",
              "  </svg>\n",
              "      </button>\n",
              "      \n",
              "  <style>\n",
              "    .colab-df-container {\n",
              "      display:flex;\n",
              "      flex-wrap:wrap;\n",
              "      gap: 12px;\n",
              "    }\n",
              "\n",
              "    .colab-df-convert {\n",
              "      background-color: #E8F0FE;\n",
              "      border: none;\n",
              "      border-radius: 50%;\n",
              "      cursor: pointer;\n",
              "      display: none;\n",
              "      fill: #1967D2;\n",
              "      height: 32px;\n",
              "      padding: 0 0 0 0;\n",
              "      width: 32px;\n",
              "    }\n",
              "\n",
              "    .colab-df-convert:hover {\n",
              "      background-color: #E2EBFA;\n",
              "      box-shadow: 0px 1px 2px rgba(60, 64, 67, 0.3), 0px 1px 3px 1px rgba(60, 64, 67, 0.15);\n",
              "      fill: #174EA6;\n",
              "    }\n",
              "\n",
              "    [theme=dark] .colab-df-convert {\n",
              "      background-color: #3B4455;\n",
              "      fill: #D2E3FC;\n",
              "    }\n",
              "\n",
              "    [theme=dark] .colab-df-convert:hover {\n",
              "      background-color: #434B5C;\n",
              "      box-shadow: 0px 1px 3px 1px rgba(0, 0, 0, 0.15);\n",
              "      filter: drop-shadow(0px 1px 2px rgba(0, 0, 0, 0.3));\n",
              "      fill: #FFFFFF;\n",
              "    }\n",
              "  </style>\n",
              "\n",
              "      <script>\n",
              "        const buttonEl =\n",
              "          document.querySelector('#df-71ff3294-15c2-4d75-a636-2fe3cdf895ac button.colab-df-convert');\n",
              "        buttonEl.style.display =\n",
              "          google.colab.kernel.accessAllowed ? 'block' : 'none';\n",
              "\n",
              "        async function convertToInteractive(key) {\n",
              "          const element = document.querySelector('#df-71ff3294-15c2-4d75-a636-2fe3cdf895ac');\n",
              "          const dataTable =\n",
              "            await google.colab.kernel.invokeFunction('convertToInteractive',\n",
              "                                                     [key], {});\n",
              "          if (!dataTable) return;\n",
              "\n",
              "          const docLinkHtml = 'Like what you see? Visit the ' +\n",
              "            '<a target=\"_blank\" href=https://colab.research.google.com/notebooks/data_table.ipynb>data table notebook</a>'\n",
              "            + ' to learn more about interactive tables.';\n",
              "          element.innerHTML = '';\n",
              "          dataTable['output_type'] = 'display_data';\n",
              "          await google.colab.output.renderOutput(dataTable, element);\n",
              "          const docLink = document.createElement('div');\n",
              "          docLink.innerHTML = docLinkHtml;\n",
              "          element.appendChild(docLink);\n",
              "        }\n",
              "      </script>\n",
              "    </div>\n",
              "  </div>\n",
              "  "
            ]
          },
          "metadata": {},
          "execution_count": 4
        }
      ]
    },
    {
      "cell_type": "code",
      "source": [
        "df.info()"
      ],
      "metadata": {
        "colab": {
          "base_uri": "https://localhost:8080/"
        },
        "id": "227GvGe7Np-2",
        "outputId": "f744daba-00ba-4b52-ed77-500015421910"
      },
      "execution_count": 5,
      "outputs": [
        {
          "output_type": "stream",
          "name": "stdout",
          "text": [
            "<class 'pandas.core.frame.DataFrame'>\n",
            "RangeIndex: 1727 entries, 0 to 1726\n",
            "Data columns (total 13 columns):\n",
            " #   Column         Non-Null Count  Dtype  \n",
            "---  ------         --------------  -----  \n",
            " 0   author id      1727 non-null   float64\n",
            " 1   date           1727 non-null   object \n",
            " 2   created_at     1727 non-null   object \n",
            " 3   geo            44 non-null     object \n",
            " 4   id             1727 non-null   float64\n",
            " 5   lang           1727 non-null   object \n",
            " 6   like_count     1727 non-null   int64  \n",
            " 7   quote_count    1727 non-null   int64  \n",
            " 8   reply_count    1727 non-null   int64  \n",
            " 9   retweet_count  1727 non-null   int64  \n",
            " 10  source         1727 non-null   object \n",
            " 11  tweet          1727 non-null   object \n",
            " 12  target         1727 non-null   int64  \n",
            "dtypes: float64(2), int64(5), object(6)\n",
            "memory usage: 175.5+ KB\n"
          ]
        }
      ]
    },
    {
      "cell_type": "code",
      "source": [
        "df.describe()"
      ],
      "metadata": {
        "colab": {
          "base_uri": "https://localhost:8080/",
          "height": 300
        },
        "id": "jicFbkzONuLR",
        "outputId": "7bc58b6e-ba0e-4a5a-bbf0-164f8b684d82"
      },
      "execution_count": 6,
      "outputs": [
        {
          "output_type": "execute_result",
          "data": {
            "text/plain": [
              "          author id            id   like_count  quote_count  reply_count  \\\n",
              "count  1.727000e+03  1.727000e+03  1727.000000  1727.000000  1727.000000   \n",
              "mean   9.449191e+17  1.490171e+18    37.965258     1.297626     5.723798   \n",
              "std    5.936940e+17  4.613171e+15   208.198962     8.527952    39.339678   \n",
              "min    1.468965e+07  1.486602e+18     0.000000     0.000000     0.000000   \n",
              "25%    3.107554e+09  1.486651e+18     0.000000     0.000000     0.000000   \n",
              "50%    1.262157e+18  1.487550e+18     2.000000     0.000000     0.000000   \n",
              "75%    1.398347e+18  1.496372e+18    15.000000     0.000000     1.000000   \n",
              "max    1.493145e+18  1.498085e+18  5522.000000   221.000000  1159.000000   \n",
              "\n",
              "       retweet_count       target  \n",
              "count    1727.000000  1727.000000  \n",
              "mean       13.046323     0.501448  \n",
              "std        52.015219     0.500143  \n",
              "min         0.000000     0.000000  \n",
              "25%         0.000000     0.000000  \n",
              "50%         1.000000     1.000000  \n",
              "75%         9.000000     1.000000  \n",
              "max       920.000000     1.000000  "
            ],
            "text/html": [
              "\n",
              "  <div id=\"df-c83f117b-cb4d-4b64-a341-cd9a26225cb5\">\n",
              "    <div class=\"colab-df-container\">\n",
              "      <div>\n",
              "<style scoped>\n",
              "    .dataframe tbody tr th:only-of-type {\n",
              "        vertical-align: middle;\n",
              "    }\n",
              "\n",
              "    .dataframe tbody tr th {\n",
              "        vertical-align: top;\n",
              "    }\n",
              "\n",
              "    .dataframe thead th {\n",
              "        text-align: right;\n",
              "    }\n",
              "</style>\n",
              "<table border=\"1\" class=\"dataframe\">\n",
              "  <thead>\n",
              "    <tr style=\"text-align: right;\">\n",
              "      <th></th>\n",
              "      <th>author id</th>\n",
              "      <th>id</th>\n",
              "      <th>like_count</th>\n",
              "      <th>quote_count</th>\n",
              "      <th>reply_count</th>\n",
              "      <th>retweet_count</th>\n",
              "      <th>target</th>\n",
              "    </tr>\n",
              "  </thead>\n",
              "  <tbody>\n",
              "    <tr>\n",
              "      <th>count</th>\n",
              "      <td>1.727000e+03</td>\n",
              "      <td>1.727000e+03</td>\n",
              "      <td>1727.000000</td>\n",
              "      <td>1727.000000</td>\n",
              "      <td>1727.000000</td>\n",
              "      <td>1727.000000</td>\n",
              "      <td>1727.000000</td>\n",
              "    </tr>\n",
              "    <tr>\n",
              "      <th>mean</th>\n",
              "      <td>9.449191e+17</td>\n",
              "      <td>1.490171e+18</td>\n",
              "      <td>37.965258</td>\n",
              "      <td>1.297626</td>\n",
              "      <td>5.723798</td>\n",
              "      <td>13.046323</td>\n",
              "      <td>0.501448</td>\n",
              "    </tr>\n",
              "    <tr>\n",
              "      <th>std</th>\n",
              "      <td>5.936940e+17</td>\n",
              "      <td>4.613171e+15</td>\n",
              "      <td>208.198962</td>\n",
              "      <td>8.527952</td>\n",
              "      <td>39.339678</td>\n",
              "      <td>52.015219</td>\n",
              "      <td>0.500143</td>\n",
              "    </tr>\n",
              "    <tr>\n",
              "      <th>min</th>\n",
              "      <td>1.468965e+07</td>\n",
              "      <td>1.486602e+18</td>\n",
              "      <td>0.000000</td>\n",
              "      <td>0.000000</td>\n",
              "      <td>0.000000</td>\n",
              "      <td>0.000000</td>\n",
              "      <td>0.000000</td>\n",
              "    </tr>\n",
              "    <tr>\n",
              "      <th>25%</th>\n",
              "      <td>3.107554e+09</td>\n",
              "      <td>1.486651e+18</td>\n",
              "      <td>0.000000</td>\n",
              "      <td>0.000000</td>\n",
              "      <td>0.000000</td>\n",
              "      <td>0.000000</td>\n",
              "      <td>0.000000</td>\n",
              "    </tr>\n",
              "    <tr>\n",
              "      <th>50%</th>\n",
              "      <td>1.262157e+18</td>\n",
              "      <td>1.487550e+18</td>\n",
              "      <td>2.000000</td>\n",
              "      <td>0.000000</td>\n",
              "      <td>0.000000</td>\n",
              "      <td>1.000000</td>\n",
              "      <td>1.000000</td>\n",
              "    </tr>\n",
              "    <tr>\n",
              "      <th>75%</th>\n",
              "      <td>1.398347e+18</td>\n",
              "      <td>1.496372e+18</td>\n",
              "      <td>15.000000</td>\n",
              "      <td>0.000000</td>\n",
              "      <td>1.000000</td>\n",
              "      <td>9.000000</td>\n",
              "      <td>1.000000</td>\n",
              "    </tr>\n",
              "    <tr>\n",
              "      <th>max</th>\n",
              "      <td>1.493145e+18</td>\n",
              "      <td>1.498085e+18</td>\n",
              "      <td>5522.000000</td>\n",
              "      <td>221.000000</td>\n",
              "      <td>1159.000000</td>\n",
              "      <td>920.000000</td>\n",
              "      <td>1.000000</td>\n",
              "    </tr>\n",
              "  </tbody>\n",
              "</table>\n",
              "</div>\n",
              "      <button class=\"colab-df-convert\" onclick=\"convertToInteractive('df-c83f117b-cb4d-4b64-a341-cd9a26225cb5')\"\n",
              "              title=\"Convert this dataframe to an interactive table.\"\n",
              "              style=\"display:none;\">\n",
              "        \n",
              "  <svg xmlns=\"http://www.w3.org/2000/svg\" height=\"24px\"viewBox=\"0 0 24 24\"\n",
              "       width=\"24px\">\n",
              "    <path d=\"M0 0h24v24H0V0z\" fill=\"none\"/>\n",
              "    <path d=\"M18.56 5.44l.94 2.06.94-2.06 2.06-.94-2.06-.94-.94-2.06-.94 2.06-2.06.94zm-11 1L8.5 8.5l.94-2.06 2.06-.94-2.06-.94L8.5 2.5l-.94 2.06-2.06.94zm10 10l.94 2.06.94-2.06 2.06-.94-2.06-.94-.94-2.06-.94 2.06-2.06.94z\"/><path d=\"M17.41 7.96l-1.37-1.37c-.4-.4-.92-.59-1.43-.59-.52 0-1.04.2-1.43.59L10.3 9.45l-7.72 7.72c-.78.78-.78 2.05 0 2.83L4 21.41c.39.39.9.59 1.41.59.51 0 1.02-.2 1.41-.59l7.78-7.78 2.81-2.81c.8-.78.8-2.07 0-2.86zM5.41 20L4 18.59l7.72-7.72 1.47 1.35L5.41 20z\"/>\n",
              "  </svg>\n",
              "      </button>\n",
              "      \n",
              "  <style>\n",
              "    .colab-df-container {\n",
              "      display:flex;\n",
              "      flex-wrap:wrap;\n",
              "      gap: 12px;\n",
              "    }\n",
              "\n",
              "    .colab-df-convert {\n",
              "      background-color: #E8F0FE;\n",
              "      border: none;\n",
              "      border-radius: 50%;\n",
              "      cursor: pointer;\n",
              "      display: none;\n",
              "      fill: #1967D2;\n",
              "      height: 32px;\n",
              "      padding: 0 0 0 0;\n",
              "      width: 32px;\n",
              "    }\n",
              "\n",
              "    .colab-df-convert:hover {\n",
              "      background-color: #E2EBFA;\n",
              "      box-shadow: 0px 1px 2px rgba(60, 64, 67, 0.3), 0px 1px 3px 1px rgba(60, 64, 67, 0.15);\n",
              "      fill: #174EA6;\n",
              "    }\n",
              "\n",
              "    [theme=dark] .colab-df-convert {\n",
              "      background-color: #3B4455;\n",
              "      fill: #D2E3FC;\n",
              "    }\n",
              "\n",
              "    [theme=dark] .colab-df-convert:hover {\n",
              "      background-color: #434B5C;\n",
              "      box-shadow: 0px 1px 3px 1px rgba(0, 0, 0, 0.15);\n",
              "      filter: drop-shadow(0px 1px 2px rgba(0, 0, 0, 0.3));\n",
              "      fill: #FFFFFF;\n",
              "    }\n",
              "  </style>\n",
              "\n",
              "      <script>\n",
              "        const buttonEl =\n",
              "          document.querySelector('#df-c83f117b-cb4d-4b64-a341-cd9a26225cb5 button.colab-df-convert');\n",
              "        buttonEl.style.display =\n",
              "          google.colab.kernel.accessAllowed ? 'block' : 'none';\n",
              "\n",
              "        async function convertToInteractive(key) {\n",
              "          const element = document.querySelector('#df-c83f117b-cb4d-4b64-a341-cd9a26225cb5');\n",
              "          const dataTable =\n",
              "            await google.colab.kernel.invokeFunction('convertToInteractive',\n",
              "                                                     [key], {});\n",
              "          if (!dataTable) return;\n",
              "\n",
              "          const docLinkHtml = 'Like what you see? Visit the ' +\n",
              "            '<a target=\"_blank\" href=https://colab.research.google.com/notebooks/data_table.ipynb>data table notebook</a>'\n",
              "            + ' to learn more about interactive tables.';\n",
              "          element.innerHTML = '';\n",
              "          dataTable['output_type'] = 'display_data';\n",
              "          await google.colab.output.renderOutput(dataTable, element);\n",
              "          const docLink = document.createElement('div');\n",
              "          docLink.innerHTML = docLinkHtml;\n",
              "          element.appendChild(docLink);\n",
              "        }\n",
              "      </script>\n",
              "    </div>\n",
              "  </div>\n",
              "  "
            ]
          },
          "metadata": {},
          "execution_count": 6
        }
      ]
    },
    {
      "cell_type": "code",
      "source": [
        "df[\"target\"].value_counts()"
      ],
      "metadata": {
        "colab": {
          "base_uri": "https://localhost:8080/"
        },
        "id": "xWdwo_ABpAnM",
        "outputId": "44a5f406-c7d0-4501-ffa2-386e09a89a34"
      },
      "execution_count": 7,
      "outputs": [
        {
          "output_type": "execute_result",
          "data": {
            "text/plain": [
              "1    866\n",
              "0    861\n",
              "Name: target, dtype: int64"
            ]
          },
          "metadata": {},
          "execution_count": 7
        }
      ]
    },
    {
      "cell_type": "markdown",
      "source": [
        "### Text Preprocessing"
      ],
      "metadata": {
        "id": "xR6HhJJVd7WH"
      }
    },
    {
      "cell_type": "code",
      "source": [
        "def lowercase(text):\n",
        "    return text.lower()\n",
        "\n",
        "table = str.maketrans(\"\", \"\", string.punctuation)\n",
        "def remove_puncts(text):\n",
        "    return text.translate(table)\n",
        "\n",
        "def stem_text(text):\n",
        "    factory = StemmerFactory()\n",
        "    stemmer = factory.create_stemmer()\n",
        "    return stemmer.stem(text)\n",
        "\n",
        "def remove_url(text):\n",
        "    url = re.compile(r\"https?(://\\S+|\\S+)|www\\.\\S+\")\n",
        "    return url.sub(\"\", text)\n",
        "\n",
        "def remove_username(text):\n",
        "    return re.sub('@[\\w]+','', text)\n",
        "\n",
        "def preprocess_text(text):\n",
        "    text = lowercase(text)\n",
        "    text = remove_url(text)\n",
        "    text = remove_puncts(text)\n",
        "    text = stem_text(text)\n",
        "    text = remove_username(text)\n",
        "    return text"
      ],
      "metadata": {
        "id": "clfgk_VEGbo0"
      },
      "execution_count": 8,
      "outputs": []
    },
    {
      "cell_type": "code",
      "source": [
        "df[\"tweet_cleaned\"] = df[\"tweet\"].apply(preprocess_text)\n",
        "df.head()"
      ],
      "metadata": {
        "colab": {
          "base_uri": "https://localhost:8080/",
          "height": 493
        },
        "id": "yr3HkRgRGczP",
        "outputId": "87be087f-e472-4e1e-99e9-808981af38ac"
      },
      "execution_count": 9,
      "outputs": [
        {
          "output_type": "execute_result",
          "data": {
            "text/plain": [
              "      author id        date                created_at  geo            id lang  \\\n",
              "0  1.484686e+18  2022-01-27  2022-01-27T07:27:53.000Z  NaN  1.486602e+18   in   \n",
              "1  1.464432e+18  2022-01-27  2022-01-27T07:27:54.000Z  NaN  1.486602e+18   in   \n",
              "2  8.852835e+17  2022-01-27  2022-01-27T07:28:03.000Z  NaN  1.486602e+18   in   \n",
              "3  1.384007e+18  2022-01-27  2022-01-27T07:28:04.000Z  NaN  1.486602e+18   in   \n",
              "4  1.450712e+18  2022-01-27  2022-01-27T07:28:05.000Z  NaN  1.486602e+18   in   \n",
              "\n",
              "   like_count  quote_count  reply_count  retweet_count               source  \\\n",
              "0           0            0            0              0      Twitter Web App   \n",
              "1           0            0            0              0  Twitter for Android   \n",
              "2           0            0            0              0      Twitter Web App   \n",
              "3           1            0            0              0      Twitter Web App   \n",
              "4           0            0            0              0  Twitter for Android   \n",
              "\n",
              "                                               tweet  target  \\\n",
              "0  #AyoTolakUUIKN \\n\\nProyek IKN membuka peluang ...       0   \n",
              "1  Tolak UU IKN karena berpotensi merusak lingkun...       0   \n",
              "2  UU IKN hanya akan merugikan rakyat dengan huta...       0   \n",
              "3  Jika UU ini diterapkan yang terjadi adalah mas...       0   \n",
              "4  UU IKN Syarat kepentingan oligarki. Tolak n ba...       0   \n",
              "\n",
              "                                       tweet_cleaned  \n",
              "0  ayotolakuuikn proyek ikn buka peluang besar pa...  \n",
              "1  tolak uu ikn karena potensi rusak lingkung dan...  \n",
              "2  uu ikn hanya akan rugi rakyat dengan hutang ri...  \n",
              "3  jika uu ini terap yang jadi adalah masyarakat ...  \n",
              "4  uu ikn syarat penting oligarki tolak n batal s...  "
            ],
            "text/html": [
              "\n",
              "  <div id=\"df-3a16f53c-409a-4979-8c18-090c85d90937\">\n",
              "    <div class=\"colab-df-container\">\n",
              "      <div>\n",
              "<style scoped>\n",
              "    .dataframe tbody tr th:only-of-type {\n",
              "        vertical-align: middle;\n",
              "    }\n",
              "\n",
              "    .dataframe tbody tr th {\n",
              "        vertical-align: top;\n",
              "    }\n",
              "\n",
              "    .dataframe thead th {\n",
              "        text-align: right;\n",
              "    }\n",
              "</style>\n",
              "<table border=\"1\" class=\"dataframe\">\n",
              "  <thead>\n",
              "    <tr style=\"text-align: right;\">\n",
              "      <th></th>\n",
              "      <th>author id</th>\n",
              "      <th>date</th>\n",
              "      <th>created_at</th>\n",
              "      <th>geo</th>\n",
              "      <th>id</th>\n",
              "      <th>lang</th>\n",
              "      <th>like_count</th>\n",
              "      <th>quote_count</th>\n",
              "      <th>reply_count</th>\n",
              "      <th>retweet_count</th>\n",
              "      <th>source</th>\n",
              "      <th>tweet</th>\n",
              "      <th>target</th>\n",
              "      <th>tweet_cleaned</th>\n",
              "    </tr>\n",
              "  </thead>\n",
              "  <tbody>\n",
              "    <tr>\n",
              "      <th>0</th>\n",
              "      <td>1.484686e+18</td>\n",
              "      <td>2022-01-27</td>\n",
              "      <td>2022-01-27T07:27:53.000Z</td>\n",
              "      <td>NaN</td>\n",
              "      <td>1.486602e+18</td>\n",
              "      <td>in</td>\n",
              "      <td>0</td>\n",
              "      <td>0</td>\n",
              "      <td>0</td>\n",
              "      <td>0</td>\n",
              "      <td>Twitter Web App</td>\n",
              "      <td>#AyoTolakUUIKN \\n\\nProyek IKN membuka peluang ...</td>\n",
              "      <td>0</td>\n",
              "      <td>ayotolakuuikn proyek ikn buka peluang besar pa...</td>\n",
              "    </tr>\n",
              "    <tr>\n",
              "      <th>1</th>\n",
              "      <td>1.464432e+18</td>\n",
              "      <td>2022-01-27</td>\n",
              "      <td>2022-01-27T07:27:54.000Z</td>\n",
              "      <td>NaN</td>\n",
              "      <td>1.486602e+18</td>\n",
              "      <td>in</td>\n",
              "      <td>0</td>\n",
              "      <td>0</td>\n",
              "      <td>0</td>\n",
              "      <td>0</td>\n",
              "      <td>Twitter for Android</td>\n",
              "      <td>Tolak UU IKN karena berpotensi merusak lingkun...</td>\n",
              "      <td>0</td>\n",
              "      <td>tolak uu ikn karena potensi rusak lingkung dan...</td>\n",
              "    </tr>\n",
              "    <tr>\n",
              "      <th>2</th>\n",
              "      <td>8.852835e+17</td>\n",
              "      <td>2022-01-27</td>\n",
              "      <td>2022-01-27T07:28:03.000Z</td>\n",
              "      <td>NaN</td>\n",
              "      <td>1.486602e+18</td>\n",
              "      <td>in</td>\n",
              "      <td>0</td>\n",
              "      <td>0</td>\n",
              "      <td>0</td>\n",
              "      <td>0</td>\n",
              "      <td>Twitter Web App</td>\n",
              "      <td>UU IKN hanya akan merugikan rakyat dengan huta...</td>\n",
              "      <td>0</td>\n",
              "      <td>uu ikn hanya akan rugi rakyat dengan hutang ri...</td>\n",
              "    </tr>\n",
              "    <tr>\n",
              "      <th>3</th>\n",
              "      <td>1.384007e+18</td>\n",
              "      <td>2022-01-27</td>\n",
              "      <td>2022-01-27T07:28:04.000Z</td>\n",
              "      <td>NaN</td>\n",
              "      <td>1.486602e+18</td>\n",
              "      <td>in</td>\n",
              "      <td>1</td>\n",
              "      <td>0</td>\n",
              "      <td>0</td>\n",
              "      <td>0</td>\n",
              "      <td>Twitter Web App</td>\n",
              "      <td>Jika UU ini diterapkan yang terjadi adalah mas...</td>\n",
              "      <td>0</td>\n",
              "      <td>jika uu ini terap yang jadi adalah masyarakat ...</td>\n",
              "    </tr>\n",
              "    <tr>\n",
              "      <th>4</th>\n",
              "      <td>1.450712e+18</td>\n",
              "      <td>2022-01-27</td>\n",
              "      <td>2022-01-27T07:28:05.000Z</td>\n",
              "      <td>NaN</td>\n",
              "      <td>1.486602e+18</td>\n",
              "      <td>in</td>\n",
              "      <td>0</td>\n",
              "      <td>0</td>\n",
              "      <td>0</td>\n",
              "      <td>0</td>\n",
              "      <td>Twitter for Android</td>\n",
              "      <td>UU IKN Syarat kepentingan oligarki. Tolak n ba...</td>\n",
              "      <td>0</td>\n",
              "      <td>uu ikn syarat penting oligarki tolak n batal s...</td>\n",
              "    </tr>\n",
              "  </tbody>\n",
              "</table>\n",
              "</div>\n",
              "      <button class=\"colab-df-convert\" onclick=\"convertToInteractive('df-3a16f53c-409a-4979-8c18-090c85d90937')\"\n",
              "              title=\"Convert this dataframe to an interactive table.\"\n",
              "              style=\"display:none;\">\n",
              "        \n",
              "  <svg xmlns=\"http://www.w3.org/2000/svg\" height=\"24px\"viewBox=\"0 0 24 24\"\n",
              "       width=\"24px\">\n",
              "    <path d=\"M0 0h24v24H0V0z\" fill=\"none\"/>\n",
              "    <path d=\"M18.56 5.44l.94 2.06.94-2.06 2.06-.94-2.06-.94-.94-2.06-.94 2.06-2.06.94zm-11 1L8.5 8.5l.94-2.06 2.06-.94-2.06-.94L8.5 2.5l-.94 2.06-2.06.94zm10 10l.94 2.06.94-2.06 2.06-.94-2.06-.94-.94-2.06-.94 2.06-2.06.94z\"/><path d=\"M17.41 7.96l-1.37-1.37c-.4-.4-.92-.59-1.43-.59-.52 0-1.04.2-1.43.59L10.3 9.45l-7.72 7.72c-.78.78-.78 2.05 0 2.83L4 21.41c.39.39.9.59 1.41.59.51 0 1.02-.2 1.41-.59l7.78-7.78 2.81-2.81c.8-.78.8-2.07 0-2.86zM5.41 20L4 18.59l7.72-7.72 1.47 1.35L5.41 20z\"/>\n",
              "  </svg>\n",
              "      </button>\n",
              "      \n",
              "  <style>\n",
              "    .colab-df-container {\n",
              "      display:flex;\n",
              "      flex-wrap:wrap;\n",
              "      gap: 12px;\n",
              "    }\n",
              "\n",
              "    .colab-df-convert {\n",
              "      background-color: #E8F0FE;\n",
              "      border: none;\n",
              "      border-radius: 50%;\n",
              "      cursor: pointer;\n",
              "      display: none;\n",
              "      fill: #1967D2;\n",
              "      height: 32px;\n",
              "      padding: 0 0 0 0;\n",
              "      width: 32px;\n",
              "    }\n",
              "\n",
              "    .colab-df-convert:hover {\n",
              "      background-color: #E2EBFA;\n",
              "      box-shadow: 0px 1px 2px rgba(60, 64, 67, 0.3), 0px 1px 3px 1px rgba(60, 64, 67, 0.15);\n",
              "      fill: #174EA6;\n",
              "    }\n",
              "\n",
              "    [theme=dark] .colab-df-convert {\n",
              "      background-color: #3B4455;\n",
              "      fill: #D2E3FC;\n",
              "    }\n",
              "\n",
              "    [theme=dark] .colab-df-convert:hover {\n",
              "      background-color: #434B5C;\n",
              "      box-shadow: 0px 1px 3px 1px rgba(0, 0, 0, 0.15);\n",
              "      filter: drop-shadow(0px 1px 2px rgba(0, 0, 0, 0.3));\n",
              "      fill: #FFFFFF;\n",
              "    }\n",
              "  </style>\n",
              "\n",
              "      <script>\n",
              "        const buttonEl =\n",
              "          document.querySelector('#df-3a16f53c-409a-4979-8c18-090c85d90937 button.colab-df-convert');\n",
              "        buttonEl.style.display =\n",
              "          google.colab.kernel.accessAllowed ? 'block' : 'none';\n",
              "\n",
              "        async function convertToInteractive(key) {\n",
              "          const element = document.querySelector('#df-3a16f53c-409a-4979-8c18-090c85d90937');\n",
              "          const dataTable =\n",
              "            await google.colab.kernel.invokeFunction('convertToInteractive',\n",
              "                                                     [key], {});\n",
              "          if (!dataTable) return;\n",
              "\n",
              "          const docLinkHtml = 'Like what you see? Visit the ' +\n",
              "            '<a target=\"_blank\" href=https://colab.research.google.com/notebooks/data_table.ipynb>data table notebook</a>'\n",
              "            + ' to learn more about interactive tables.';\n",
              "          element.innerHTML = '';\n",
              "          dataTable['output_type'] = 'display_data';\n",
              "          await google.colab.output.renderOutput(dataTable, element);\n",
              "          const docLink = document.createElement('div');\n",
              "          docLink.innerHTML = docLinkHtml;\n",
              "          element.appendChild(docLink);\n",
              "        }\n",
              "      </script>\n",
              "    </div>\n",
              "  </div>\n",
              "  "
            ]
          },
          "metadata": {},
          "execution_count": 9
        }
      ]
    },
    {
      "cell_type": "code",
      "source": [
        "df[\"tweet_cleaned\"]"
      ],
      "metadata": {
        "id": "xkrEaOpRLt3Z",
        "outputId": "a03d76c5-7742-432c-8dc5-bb81881a3265",
        "colab": {
          "base_uri": "https://localhost:8080/"
        }
      },
      "execution_count": 10,
      "outputs": [
        {
          "output_type": "execute_result",
          "data": {
            "text/plain": [
              "0       ayotolakuuikn proyek ikn buka peluang besar pa...\n",
              "1       tolak uu ikn karena potensi rusak lingkung dan...\n",
              "2       uu ikn hanya akan rugi rakyat dengan hutang ri...\n",
              "3       jika uu ini terap yang jadi adalah masyarakat ...\n",
              "4       uu ikn syarat penting oligarki tolak n batal s...\n",
              "                              ...                        \n",
              "1722    visi bangun ikn ikn akan bangun dengan visi ko...\n",
              "1723    menteri suharsom ada di tengah indonesia ikn h...\n",
              "1724    visi bangun ikn ikn akan bangun dengan visi ko...\n",
              "1725    ada di tengah indonesia ikn harap jadi pusat g...\n",
              "1726    bangun ikn usung konsep future smart forest ci...\n",
              "Name: tweet_cleaned, Length: 1727, dtype: object"
            ]
          },
          "metadata": {},
          "execution_count": 10
        }
      ]
    },
    {
      "cell_type": "markdown",
      "source": [
        "### Modeling"
      ],
      "metadata": {
        "id": "aOWF3o0we_3e"
      }
    },
    {
      "cell_type": "code",
      "source": [
        "maxlen = df[\"tweet_cleaned\"].str.split().str.len().max()\n",
        "maxlen"
      ],
      "metadata": {
        "colab": {
          "base_uri": "https://localhost:8080/"
        },
        "id": "Yld_6Ku0JMYu",
        "outputId": "da9d2a43-f673-412f-bda5-f60ff3b38474"
      },
      "execution_count": 11,
      "outputs": [
        {
          "output_type": "execute_result",
          "data": {
            "text/plain": [
              "48"
            ]
          },
          "metadata": {},
          "execution_count": 11
        }
      ]
    },
    {
      "cell_type": "code",
      "source": [
        "X_train, X_test, y_train, y_test = train_test_split(df[\"tweet_cleaned\"], df[\"target\"], shuffle=True, test_size=0.20)"
      ],
      "metadata": {
        "id": "IdW_HeNZKhhk"
      },
      "execution_count": 12,
      "outputs": []
    },
    {
      "cell_type": "code",
      "source": [
        "#tokenizer\n",
        "tokenizer = keras.preprocessing.text.Tokenizer(num_words=10000)\n",
        "\n",
        "#update kosa kata\n",
        "tokenizer.fit_on_texts(df[\"tweet_cleaned\"])\n",
        "\n",
        "#ubah teks menjadi sequence\n",
        "X_train_sequence = tokenizer.texts_to_sequences(X_train)\n",
        "X_test_sequence = tokenizer.texts_to_sequences(X_test)\n",
        "\n",
        "#samakan panjang kalimat\n",
        "X_train_sequence = keras.preprocessing.sequence.pad_sequences(X_train_sequence, maxlen=maxlen, padding=\"post\")\n",
        "X_test_sequence = keras.preprocessing.sequence.pad_sequences(X_test_sequence, maxlen=maxlen, padding=\"post\")"
      ],
      "metadata": {
        "id": "gVQbvAFkLEcs"
      },
      "execution_count": 13,
      "outputs": []
    },
    {
      "cell_type": "code",
      "source": [
        "X_train_sequence.shape"
      ],
      "metadata": {
        "colab": {
          "base_uri": "https://localhost:8080/"
        },
        "id": "DkANzS5ZbqDY",
        "outputId": "4cdf119d-a8fa-4503-f0dc-9cc98e3a5579"
      },
      "execution_count": 14,
      "outputs": [
        {
          "output_type": "execute_result",
          "data": {
            "text/plain": [
              "(1381, 48)"
            ]
          },
          "metadata": {},
          "execution_count": 14
        }
      ]
    },
    {
      "cell_type": "code",
      "source": [
        "#parameter\n",
        "BATCH_SIZE = 32\n",
        "epoch = 100\n",
        "EMBEDDING_DIM = 32"
      ],
      "metadata": {
        "id": "Sv3YqSsJcGKX"
      },
      "execution_count": 15,
      "outputs": []
    },
    {
      "cell_type": "code",
      "source": [
        "#callback\n",
        "class myCallback(tf.keras.callbacks.Callback):\n",
        "  def on_epoch_end(self, epoch, logs={}):\n",
        "    if(logs.get('binary_accuracy')>0.99):\n",
        "      print(\"\\nReached 99% accuracy so cancelling training!\")\n",
        "      self.model.stop_training = True"
      ],
      "metadata": {
        "id": "5FYQoJqZxV01"
      },
      "execution_count": 16,
      "outputs": []
    },
    {
      "cell_type": "code",
      "source": [
        "#fungsi untuk memplot hasil training\n",
        "def history_line_plot(history, keys, title=\"\"):\n",
        "    for key in keys:\n",
        "        plt.plot(history[key], label=key)\n",
        "    plt.title(title)\n",
        "    plt.legend()\n",
        "    plt.show()"
      ],
      "metadata": {
        "id": "C96yhQfjwzNk"
      },
      "execution_count": 17,
      "outputs": []
    },
    {
      "cell_type": "markdown",
      "source": [
        "#### RNN Model"
      ],
      "metadata": {
        "id": "-56D9wKZfHjK"
      }
    },
    {
      "cell_type": "code",
      "source": [
        "#membangun model\n",
        "inputs = keras.layers.Input(shape=(maxlen,))\n",
        "x = keras.layers.Embedding(10000, EMBEDDING_DIM, input_length=maxlen)(inputs)\n",
        "x = keras.layers.SimpleRNN(16)(x)\n",
        "outputs = keras.layers.Dense(1, activation=\"sigmoid\")(x)\n",
        "\n",
        "model_rnn = keras.models.Model(inputs=inputs, outputs=outputs)\n",
        "model_rnn.compile(\n",
        "    optimizer=tf.keras.optimizers.Adam(),\n",
        "    loss=tf.keras.losses.BinaryCrossentropy(),\n",
        "    metrics=[tf.keras.metrics.BinaryAccuracy()])\n",
        "\n",
        "model_rnn.summary()"
      ],
      "metadata": {
        "colab": {
          "base_uri": "https://localhost:8080/"
        },
        "id": "kVkrZKH0lt35",
        "outputId": "e6c2d0f8-6fc6-4440-8ad0-e8bd76660c86"
      },
      "execution_count": 18,
      "outputs": [
        {
          "output_type": "stream",
          "name": "stdout",
          "text": [
            "Model: \"model\"\n",
            "_________________________________________________________________\n",
            " Layer (type)                Output Shape              Param #   \n",
            "=================================================================\n",
            " input_1 (InputLayer)        [(None, 48)]              0         \n",
            "                                                                 \n",
            " embedding (Embedding)       (None, 48, 32)            320000    \n",
            "                                                                 \n",
            " simple_rnn (SimpleRNN)      (None, 16)                784       \n",
            "                                                                 \n",
            " dense (Dense)               (None, 1)                 17        \n",
            "                                                                 \n",
            "=================================================================\n",
            "Total params: 320,801\n",
            "Trainable params: 320,801\n",
            "Non-trainable params: 0\n",
            "_________________________________________________________________\n"
          ]
        }
      ]
    },
    {
      "cell_type": "code",
      "source": [
        "#training model\n",
        "history_rnn = model_rnn.fit(\n",
        "    x=X_train_sequence,\n",
        "    y=y_train,\n",
        "    batch_size=BATCH_SIZE,\n",
        "    epochs=epoch,\n",
        "    validation_split=0.2,\n",
        "    callbacks=[myCallback()])"
      ],
      "metadata": {
        "colab": {
          "base_uri": "https://localhost:8080/"
        },
        "id": "Y0jqJcsnmm6M",
        "outputId": "61949dee-1d8f-4dc2-90a7-fde915da8dce"
      },
      "execution_count": 19,
      "outputs": [
        {
          "output_type": "stream",
          "name": "stdout",
          "text": [
            "Epoch 1/100\n",
            "35/35 [==============================] - 4s 54ms/step - loss: 0.6829 - binary_accuracy: 0.5507 - val_loss: 0.6643 - val_binary_accuracy: 0.6245\n",
            "Epoch 2/100\n",
            "35/35 [==============================] - 2s 49ms/step - loss: 0.4569 - binary_accuracy: 0.8732 - val_loss: 0.5820 - val_binary_accuracy: 0.6859\n",
            "Epoch 3/100\n",
            "35/35 [==============================] - 2s 51ms/step - loss: 0.2326 - binary_accuracy: 0.9638 - val_loss: 0.5555 - val_binary_accuracy: 0.7329\n",
            "Epoch 4/100\n",
            "35/35 [==============================] - 2s 48ms/step - loss: 0.1233 - binary_accuracy: 0.9873 - val_loss: 0.5680 - val_binary_accuracy: 0.7184\n",
            "Epoch 5/100\n",
            "35/35 [==============================] - ETA: 0s - loss: 0.0755 - binary_accuracy: 0.9982\n",
            "Reached 99% accuracy so cancelling training!\n",
            "35/35 [==============================] - 2s 47ms/step - loss: 0.0755 - binary_accuracy: 0.9982 - val_loss: 0.5736 - val_binary_accuracy: 0.7401\n"
          ]
        }
      ]
    },
    {
      "cell_type": "code",
      "source": [
        "history_line_plot(\n",
        "    history=history_rnn.history, \n",
        "    keys=[\"binary_accuracy\", \"val_binary_accuracy\"],\n",
        "    title=\"Accuracy\")\n",
        "\n",
        "history_line_plot(\n",
        "    history=history_rnn.history, \n",
        "    keys=[\"loss\", \"val_loss\"],\n",
        "    title=\"Loss\")"
      ],
      "metadata": {
        "colab": {
          "base_uri": "https://localhost:8080/",
          "height": 545
        },
        "id": "gtT_IysUwYNN",
        "outputId": "63655d64-98e2-4093-fca0-914ba0c2dfd3"
      },
      "execution_count": 20,
      "outputs": [
        {
          "output_type": "display_data",
          "data": {
            "text/plain": [
              "<Figure size 432x288 with 1 Axes>"
            ],
            "image/png": "[encoded data removed]"
          },
          "metadata": {
            "needs_background": "light"
          }
        },
        {
          "output_type": "display_data",
          "data": {
            "text/plain": [
              "<Figure size 432x288 with 1 Axes>"
            ],
            "image/png": "[encoded data removed]"
          },
          "metadata": {
            "needs_background": "light"
          }
        }
      ]
    },
    {
      "cell_type": "markdown",
      "source": [
        "### LSTM"
      ],
      "metadata": {
        "id": "83bcinFNR5IY"
      }
    },
    {
      "cell_type": "code",
      "source": [
        "#membangun model\n",
        "inputs = keras.layers.Input(shape=(maxlen,))\n",
        "x = keras.layers.Embedding(10000, EMBEDDING_DIM, input_length=maxlen)(inputs)\n",
        "x = keras.layers.LSTM(16)(x)\n",
        "outputs = keras.layers.Dense(1, activation=\"sigmoid\")(x)\n",
        "\n",
        "model_lstm = keras.models.Model(inputs=inputs, outputs=outputs)\n",
        "model_lstm.compile(\n",
        "    optimizer=tf.keras.optimizers.Adam(),\n",
        "    loss=tf.keras.losses.BinaryCrossentropy(),\n",
        "    metrics=[tf.keras.metrics.BinaryAccuracy()])\n",
        "\n",
        "model_lstm.summary()"
      ],
      "metadata": {
        "colab": {
          "base_uri": "https://localhost:8080/"
        },
        "id": "k5sdXdY5R68M",
        "outputId": "771ae9a8-3259-4888-ca11-f9d023d0b28a"
      },
      "execution_count": 21,
      "outputs": [
        {
          "output_type": "stream",
          "name": "stdout",
          "text": [
            "Model: \"model_1\"\n",
            "_________________________________________________________________\n",
            " Layer (type)                Output Shape              Param #   \n",
            "=================================================================\n",
            " input_2 (InputLayer)        [(None, 48)]              0         \n",
            "                                                                 \n",
            " embedding_1 (Embedding)     (None, 48, 32)            320000    \n",
            "                                                                 \n",
            " lstm (LSTM)                 (None, 16)                3136      \n",
            "                                                                 \n",
            " dense_1 (Dense)             (None, 1)                 17        \n",
            "                                                                 \n",
            "=================================================================\n",
            "Total params: 323,153\n",
            "Trainable params: 323,153\n",
            "Non-trainable params: 0\n",
            "_________________________________________________________________\n"
          ]
        }
      ]
    },
    {
      "cell_type": "code",
      "source": [
        "#training model\n",
        "history_lstm = model_lstm.fit(\n",
        "    x=X_train_sequence,\n",
        "    y=y_train,\n",
        "    batch_size=BATCH_SIZE,\n",
        "    epochs=epoch,\n",
        "    validation_split=0.2,\n",
        "    callbacks=[myCallback()])"
      ],
      "metadata": {
        "colab": {
          "base_uri": "https://localhost:8080/"
        },
        "id": "xj7dOSH6SAXa",
        "outputId": "e53e442f-f7b3-4e3d-f700-47ed7c100418"
      },
      "execution_count": 22,
      "outputs": [
        {
          "output_type": "stream",
          "name": "stdout",
          "text": [
            "Epoch 1/100\n",
            "35/35 [==============================] - 3s 19ms/step - loss: 0.6938 - binary_accuracy: 0.5091 - val_loss: 0.6943 - val_binary_accuracy: 0.4657\n",
            "Epoch 2/100\n",
            "35/35 [==============================] - 0s 7ms/step - loss: 0.6689 - binary_accuracy: 0.6721 - val_loss: 0.5310 - val_binary_accuracy: 0.8989\n",
            "Epoch 3/100\n",
            "35/35 [==============================] - 0s 9ms/step - loss: 0.3539 - binary_accuracy: 0.9339 - val_loss: 0.2943 - val_binary_accuracy: 0.9170\n",
            "Epoch 4/100\n",
            "35/35 [==============================] - 0s 7ms/step - loss: 0.1659 - binary_accuracy: 0.9755 - val_loss: 0.2787 - val_binary_accuracy: 0.9206\n",
            "Epoch 5/100\n",
            "35/35 [==============================] - 0s 7ms/step - loss: 0.1404 - binary_accuracy: 0.9728 - val_loss: 0.2176 - val_binary_accuracy: 0.9350\n",
            "Epoch 6/100\n",
            "35/35 [==============================] - 0s 8ms/step - loss: 0.0807 - binary_accuracy: 0.9882 - val_loss: 0.2639 - val_binary_accuracy: 0.9206\n",
            "Epoch 7/100\n",
            "35/35 [==============================] - 0s 7ms/step - loss: 0.0699 - binary_accuracy: 0.9882 - val_loss: 0.1796 - val_binary_accuracy: 0.9458\n",
            "Epoch 8/100\n",
            "35/35 [==============================] - ETA: 0s - loss: 0.0453 - binary_accuracy: 0.9946\n",
            "Reached 99% accuracy so cancelling training!\n",
            "35/35 [==============================] - 0s 7ms/step - loss: 0.0453 - binary_accuracy: 0.9946 - val_loss: 0.2019 - val_binary_accuracy: 0.9458\n"
          ]
        }
      ]
    },
    {
      "cell_type": "code",
      "source": [
        "history_line_plot(\n",
        "    history=history_lstm.history, \n",
        "    keys=[\"binary_accuracy\", \"val_binary_accuracy\"],\n",
        "    title=\"Accuracy\")\n",
        "\n",
        "history_line_plot(\n",
        "    history=history_lstm.history, \n",
        "    keys=[\"loss\", \"val_loss\"],\n",
        "    title=\"Loss\")"
      ],
      "metadata": {
        "colab": {
          "base_uri": "https://localhost:8080/",
          "height": 545
        },
        "id": "9yOvxKLHSRLr",
        "outputId": "9c1f1e37-c67b-4f9a-c7ac-f52bd6f0fd29"
      },
      "execution_count": 23,
      "outputs": [
        {
          "output_type": "display_data",
          "data": {
            "text/plain": [
              "<Figure size 432x288 with 1 Axes>"
            ],
            "image/png": "[encoded data removed]"
          },
          "metadata": {
            "needs_background": "light"
          }
        },
        {
          "output_type": "display_data",
          "data": {
            "text/plain": [
              "<Figure size 432x288 with 1 Axes>"
            ],
            "image/png": "[encoded data removed]"
          },
          "metadata": {
            "needs_background": "light"
          }
        }
      ]
    },
    {
      "cell_type": "markdown",
      "source": [
        "### GRU"
      ],
      "metadata": {
        "id": "ROx4JmyPTKUz"
      }
    },
    {
      "cell_type": "code",
      "source": [
        "#membangun model\n",
        "inputs = keras.layers.Input(shape=(maxlen,))\n",
        "x = keras.layers.Embedding(10000, EMBEDDING_DIM, input_length=maxlen)(inputs)\n",
        "x = keras.layers.GRU(16)(x)\n",
        "outputs = keras.layers.Dense(1, activation=\"sigmoid\")(x)\n",
        "\n",
        "model_gru = keras.models.Model(inputs=inputs, outputs=outputs)\n",
        "model_gru.compile(\n",
        "    optimizer=tf.keras.optimizers.Adam(),\n",
        "    loss=tf.keras.losses.BinaryCrossentropy(),\n",
        "    metrics=[tf.keras.metrics.BinaryAccuracy()])\n",
        "\n",
        "model_gru.summary()"
      ],
      "metadata": {
        "colab": {
          "base_uri": "https://localhost:8080/"
        },
        "id": "HmVxyw-jSRO1",
        "outputId": "96415e0d-8959-47f8-947e-d056cadb6470"
      },
      "execution_count": 24,
      "outputs": [
        {
          "output_type": "stream",
          "name": "stdout",
          "text": [
            "Model: \"model_2\"\n",
            "_________________________________________________________________\n",
            " Layer (type)                Output Shape              Param #   \n",
            "=================================================================\n",
            " input_3 (InputLayer)        [(None, 48)]              0         \n",
            "                                                                 \n",
            " embedding_2 (Embedding)     (None, 48, 32)            320000    \n",
            "                                                                 \n",
            " gru (GRU)                   (None, 16)                2400      \n",
            "                                                                 \n",
            " dense_2 (Dense)             (None, 1)                 17        \n",
            "                                                                 \n",
            "=================================================================\n",
            "Total params: 322,417\n",
            "Trainable params: 322,417\n",
            "Non-trainable params: 0\n",
            "_________________________________________________________________\n"
          ]
        }
      ]
    },
    {
      "cell_type": "code",
      "source": [
        "#training model\n",
        "history_gru = model_gru.fit(\n",
        "    x=X_train_sequence,\n",
        "    y=y_train,\n",
        "    batch_size=BATCH_SIZE,\n",
        "    epochs=epoch,\n",
        "    validation_split=0.2,\n",
        "    callbacks=[myCallback()])"
      ],
      "metadata": {
        "colab": {
          "base_uri": "https://localhost:8080/"
        },
        "id": "c_TrF8b2TNpc",
        "outputId": "70a35faa-8e86-461c-9598-090325775d31"
      },
      "execution_count": 25,
      "outputs": [
        {
          "output_type": "stream",
          "name": "stdout",
          "text": [
            "Epoch 1/100\n",
            "35/35 [==============================] - 2s 19ms/step - loss: 0.6937 - binary_accuracy: 0.5136 - val_loss: 0.6962 - val_binary_accuracy: 0.4657\n",
            "Epoch 2/100\n",
            "35/35 [==============================] - 0s 9ms/step - loss: 0.6932 - binary_accuracy: 0.5136 - val_loss: 0.6955 - val_binary_accuracy: 0.4657\n",
            "Epoch 3/100\n",
            "35/35 [==============================] - 0s 7ms/step - loss: 0.6933 - binary_accuracy: 0.5145 - val_loss: 0.6956 - val_binary_accuracy: 0.4657\n",
            "Epoch 4/100\n",
            "35/35 [==============================] - 0s 7ms/step - loss: 0.6929 - binary_accuracy: 0.5154 - val_loss: 0.6948 - val_binary_accuracy: 0.4657\n",
            "Epoch 5/100\n",
            "35/35 [==============================] - 0s 8ms/step - loss: 0.6929 - binary_accuracy: 0.5154 - val_loss: 0.6963 - val_binary_accuracy: 0.4657\n",
            "Epoch 6/100\n",
            "35/35 [==============================] - 0s 8ms/step - loss: 0.6925 - binary_accuracy: 0.5172 - val_loss: 0.6947 - val_binary_accuracy: 0.4657\n",
            "Epoch 7/100\n",
            "35/35 [==============================] - 0s 7ms/step - loss: 0.6668 - binary_accuracy: 0.5743 - val_loss: 0.4960 - val_binary_accuracy: 0.8484\n",
            "Epoch 8/100\n",
            "35/35 [==============================] - 0s 8ms/step - loss: 0.3558 - binary_accuracy: 0.8931 - val_loss: 0.3323 - val_binary_accuracy: 0.8845\n",
            "Epoch 9/100\n",
            "35/35 [==============================] - 0s 7ms/step - loss: 0.1950 - binary_accuracy: 0.9556 - val_loss: 0.2834 - val_binary_accuracy: 0.9134\n",
            "Epoch 10/100\n",
            "35/35 [==============================] - 0s 7ms/step - loss: 0.0948 - binary_accuracy: 0.9828 - val_loss: 0.3282 - val_binary_accuracy: 0.9061\n",
            "Epoch 11/100\n",
            "35/35 [==============================] - 0s 8ms/step - loss: 0.0799 - binary_accuracy: 0.9837 - val_loss: 0.1995 - val_binary_accuracy: 0.9458\n",
            "Epoch 12/100\n",
            "30/35 [========================>.....] - ETA: 0s - loss: 0.0613 - binary_accuracy: 0.9896\n",
            "Reached 99% accuracy so cancelling training!\n",
            "35/35 [==============================] - 0s 8ms/step - loss: 0.0593 - binary_accuracy: 0.9900 - val_loss: 0.2241 - val_binary_accuracy: 0.9422\n"
          ]
        }
      ]
    },
    {
      "cell_type": "code",
      "source": [
        "history_line_plot(\n",
        "    history=history_gru.history, \n",
        "    keys=[\"binary_accuracy\", \"val_binary_accuracy\"],\n",
        "    title=\"Accuracy\")\n",
        "\n",
        "history_line_plot(\n",
        "    history=history_gru.history, \n",
        "    keys=[\"loss\", \"val_loss\"],\n",
        "    title=\"Loss\")"
      ],
      "metadata": {
        "colab": {
          "base_uri": "https://localhost:8080/",
          "height": 545
        },
        "id": "x34rvVSJTT6n",
        "outputId": "4ea55c30-fef9-483e-e59d-3960bcc36999"
      },
      "execution_count": 26,
      "outputs": [
        {
          "output_type": "display_data",
          "data": {
            "text/plain": [
              "<Figure size 432x288 with 1 Axes>"
            ],
            "image/png": "[encoded data removed]"
          },
          "metadata": {
            "needs_background": "light"
          }
        },
        {
          "output_type": "display_data",
          "data": {
            "text/plain": [
              "<Figure size 432x288 with 1 Axes>"
            ],
            "image/png": "[encoded data removed]"
          },
          "metadata": {
            "needs_background": "light"
          }
        }
      ]
    },
    {
      "cell_type": "markdown",
      "source": [
        "### Evaluasi dan Prediksi"
      ],
      "metadata": {
        "id": "gbt-bsM9ijnW"
      }
    },
    {
      "cell_type": "code",
      "source": [
        "loss1, acc1 = model_rnn.evaluate(X_test_sequence, y_test)\n",
        "print(f\"RNN Model test loss: {loss1}\")\n",
        "print(f\"RNN Model test acc: {acc1}\")"
      ],
      "metadata": {
        "colab": {
          "base_uri": "https://localhost:8080/"
        },
        "id": "Wav2IPgliysW",
        "outputId": "6253747d-529c-4da2-bea5-1a59c1ff0896"
      },
      "execution_count": 27,
      "outputs": [
        {
          "output_type": "stream",
          "name": "stdout",
          "text": [
            "11/11 [==============================] - 0s 6ms/step - loss: 0.5493 - binary_accuracy: 0.7370\n",
            "RNN Model test loss: 0.5492656826972961\n",
            "RNN Model test acc: 0.736994206905365\n"
          ]
        }
      ]
    },
    {
      "cell_type": "code",
      "source": [
        "loss2, acc2 = model_lstm.evaluate(X_test_sequence, y_test)\n",
        "print(f\"LSTM Model test loss: {loss2}\")\n",
        "print(f\"LSTM Model test acc: {acc2}\")"
      ],
      "metadata": {
        "colab": {
          "base_uri": "https://localhost:8080/"
        },
        "id": "G4zC5ufli7QU",
        "outputId": "62acf5f9-c1c8-4402-ae89-a153d3aab0e4"
      },
      "execution_count": 28,
      "outputs": [
        {
          "output_type": "stream",
          "name": "stdout",
          "text": [
            "11/11 [==============================] - 0s 3ms/step - loss: 0.3004 - binary_accuracy: 0.9191\n",
            "LSTM Model test loss: 0.30041995644569397\n",
            "LSTM Model test acc: 0.9190751314163208\n"
          ]
        }
      ]
    },
    {
      "cell_type": "code",
      "source": [
        "loss3, acc3 = model_gru.evaluate(X_test_sequence, y_test)\n",
        "print(f\"GRU Model test loss: {loss3}\")\n",
        "print(f\"GRU Model test acc: {acc3}\")"
      ],
      "metadata": {
        "colab": {
          "base_uri": "https://localhost:8080/"
        },
        "id": "9YZPNc22jIsv",
        "outputId": "8c30b9cd-f235-4416-8cbd-4f4c0309ba7a"
      },
      "execution_count": 29,
      "outputs": [
        {
          "output_type": "stream",
          "name": "stdout",
          "text": [
            "11/11 [==============================] - 0s 3ms/step - loss: 0.3804 - binary_accuracy: 0.8931\n",
            "GRU Model test loss: 0.38035106658935547\n",
            "GRU Model test acc: 0.8930636048316956\n"
          ]
        }
      ]
    },
    {
      "cell_type": "code",
      "source": [
        "def predict(texts, model):\n",
        "    texts = [preprocess_text(text) for text in texts]\n",
        "    seq = tokenizer.texts_to_sequences(texts)\n",
        "    seq = keras.preprocessing.sequence.pad_sequences(seq, maxlen=maxlen, padding=\"post\")\n",
        "    probs = model.predict(seq)\n",
        "    return probs\n",
        "\n",
        "\n",
        "samples = [\n",
        "           \"saya menolak pemindahan ibukota\", \n",
        "           \"pemindahan ibukota hanya menambah hutang negara\",\n",
        "           \"dukung pemindahan ibukota\"\n",
        "            ]"
      ],
      "metadata": {
        "id": "OI_2V6TtTsnR"
      },
      "execution_count": 34,
      "outputs": []
    },
    {
      "cell_type": "code",
      "source": [
        "probs1 = predict(samples, model_rnn)\n",
        "\n",
        "predictions1 = tf.where(probs1 > 0.5, \"Positif\", \"Negatif\")\n",
        "predictions1 = tf.squeeze(predictions1, axis=-1)\n",
        "\n",
        "for sample, prob, label in zip(samples, probs1, predictions1):\n",
        "    print(f\"Hasil Prediksi dengan RNN Model\")\n",
        "    print(f\"Kalimat: {sample}\")\n",
        "    print(f\"Probabilitas: {prob}\")\n",
        "    print(f\"Label: {label.numpy().decode()}\")\n",
        "    print()"
      ],
      "metadata": {
        "colab": {
          "base_uri": "https://localhost:8080/"
        },
        "id": "uOJoB9rdjXnI",
        "outputId": "e21bd17e-e2d3-4364-a955-eb4c0fc54040"
      },
      "execution_count": 35,
      "outputs": [
        {
          "output_type": "stream",
          "name": "stdout",
          "text": [
            "Hasil Prediksi dengan RNN Model\n",
            "Kalimat: saya menolak pemindahan ibukota\n",
            "Probabilitas: [0.02921679]\n",
            "Label: Negatif\n",
            "\n",
            "Hasil Prediksi dengan RNN Model\n",
            "Kalimat: pemindahan ibukota hanya menambah hutang negara\n",
            "Probabilitas: [0.02922635]\n",
            "Label: Negatif\n",
            "\n",
            "Hasil Prediksi dengan RNN Model\n",
            "Kalimat: dukung pemindahan ibukota\n",
            "Probabilitas: [0.9289846]\n",
            "Label: Positif\n",
            "\n"
          ]
        }
      ]
    },
    {
      "cell_type": "code",
      "source": [
        "probs2 = predict(samples, model_lstm)\n",
        "\n",
        "predictions2 = tf.where(probs2 > 0.5, \"Positif\", \"Negatif\")\n",
        "predictions2 = tf.squeeze(predictions2, axis=-1)\n",
        "\n",
        "for sample, prob, label in zip(samples, probs2, predictions2):\n",
        "    print(f\"Hasil Prediksi dengan LSTM Model\")\n",
        "    print(f\"Kalimat: {sample}\")\n",
        "    print(f\"Probabilitas: {prob}\")\n",
        "    print(f\"Label: {label.numpy().decode()}\")\n",
        "    print()"
      ],
      "metadata": {
        "colab": {
          "base_uri": "https://localhost:8080/"
        },
        "id": "UWIb6PXVjjD6",
        "outputId": "f9bfdb5c-daa6-4488-8700-5f39961d18ba"
      },
      "execution_count": 36,
      "outputs": [
        {
          "output_type": "stream",
          "name": "stdout",
          "text": [
            "Hasil Prediksi dengan LSTM Model\n",
            "Kalimat: saya menolak pemindahan ibukota\n",
            "Probabilitas: [0.02680737]\n",
            "Label: Negatif\n",
            "\n",
            "Hasil Prediksi dengan LSTM Model\n",
            "Kalimat: pemindahan ibukota hanya menambah hutang negara\n",
            "Probabilitas: [0.02657262]\n",
            "Label: Negatif\n",
            "\n",
            "Hasil Prediksi dengan LSTM Model\n",
            "Kalimat: dukung pemindahan ibukota\n",
            "Probabilitas: [0.9805524]\n",
            "Label: Positif\n",
            "\n"
          ]
        }
      ]
    },
    {
      "cell_type": "code",
      "source": [
        "probs3 = predict(samples, model_gru)\n",
        "\n",
        "predictions3 = tf.where(probs3 > 0.5, \"Positif\", \"Negatif\")\n",
        "predictions3 = tf.squeeze(predictions3, axis=-1)\n",
        "\n",
        "for sample, prob, label in zip(samples, probs3, predictions3):\n",
        "    print(f\"Hasil Prediksi dengan GRU Model\")\n",
        "    print(f\"Kalimat: {sample}\")\n",
        "    print(f\"Probabilitas: {prob}\")\n",
        "    print(f\"Label: {label.numpy().decode()}\")\n",
        "    print()"
      ],
      "metadata": {
        "colab": {
          "base_uri": "https://localhost:8080/"
        },
        "id": "ia3ev4SnlYrc",
        "outputId": "32030199-be81-4c59-f02c-44926bbc1acd"
      },
      "execution_count": 37,
      "outputs": [
        {
          "output_type": "stream",
          "name": "stdout",
          "text": [
            "Hasil Prediksi dengan GRU Model\n",
            "Kalimat: saya menolak pemindahan ibukota\n",
            "Probabilitas: [0.02442531]\n",
            "Label: Negatif\n",
            "\n",
            "Hasil Prediksi dengan GRU Model\n",
            "Kalimat: pemindahan ibukota hanya menambah hutang negara\n",
            "Probabilitas: [0.02451114]\n",
            "Label: Negatif\n",
            "\n",
            "Hasil Prediksi dengan GRU Model\n",
            "Kalimat: dukung pemindahan ibukota\n",
            "Probabilitas: [0.9825832]\n",
            "Label: Positif\n",
            "\n"
          ]
        }
      ]
    },
    {
      "cell_type": "code",
      "source": [
        "model_rnn.save('model_fix.h5')"
      ],
      "metadata": {
        "id": "380xqoimQiea"
      },
      "execution_count": 38,
      "outputs": []
    }
  ]
}